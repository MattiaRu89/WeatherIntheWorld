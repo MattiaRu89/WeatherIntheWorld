{
 "cells": [
  {
   "cell_type": "code",
   "execution_count": 2,
   "metadata": {},
   "outputs": [],
   "source": [
    "import pandas as pd\n",
    "import numpy as np\n",
    "import requests\n",
    "from bs4 import BeautifulSoup"
   ]
  },
  {
   "cell_type": "code",
   "execution_count": 1,
   "metadata": {},
   "outputs": [],
   "source": [
    "import datetime as dt\n",
    "import requests"
   ]
  },
  {
   "cell_type": "code",
   "execution_count": 4,
   "metadata": {},
   "outputs": [],
   "source": [
    "base_url=\"http://api.openweathermap.org/data/2.5/weather?\""
   ]
  },
  {
   "cell_type": "code",
   "execution_count": 3,
   "metadata": {},
   "outputs": [],
   "source": [
    "API=\"input your key here\""
   ]
  },
  {
   "cell_type": "code",
   "execution_count": 55,
   "metadata": {},
   "outputs": [],
   "source": [
    "City=input(f'What is the city:')"
   ]
  },
  {
   "cell_type": "code",
   "execution_count": 56,
   "metadata": {},
   "outputs": [],
   "source": [
    "url=base_url + 'appid=' + API + '&q=' + City"
   ]
  },
  {
   "cell_type": "code",
   "execution_count": 57,
   "metadata": {},
   "outputs": [],
   "source": [
    "response=requests.get(url).json()"
   ]
  },
  {
   "cell_type": "code",
   "execution_count": 58,
   "metadata": {},
   "outputs": [
    {
     "name": "stdout",
     "output_type": "stream",
     "text": [
      "{'coord': {'lon': -3.0325, 'lat': 43.3284}, 'weather': [{'id': 500, 'main': 'Rain', 'description': 'light rain', 'icon': '10d'}], 'base': 'stations', 'main': {'temp': 286.02, 'feels_like': 285.4, 'temp_min': 284.48, 'temp_max': 287.64, 'pressure': 1015, 'humidity': 78, 'sea_level': 1015, 'grnd_level': 998}, 'visibility': 10000, 'wind': {'speed': 1.54, 'deg': 230}, 'rain': {'1h': 0.87}, 'clouds': {'all': 100}, 'dt': 1729959803, 'sys': {'type': 2, 'id': 2038039, 'country': 'ES', 'sunrise': 1729924788, 'sunset': 1729962724}, 'timezone': 7200, 'id': 3109481, 'name': 'Santurtzi', 'cod': 200}\n"
     ]
    }
   ],
   "source": [
    "print(response)"
   ]
  },
  {
   "cell_type": "code",
   "execution_count": 59,
   "metadata": {},
   "outputs": [],
   "source": [
    "def kelvin_to_celsius_fahrenheit(kelvin):\n",
    "    celsius = kelvin - 273.15\n",
    "    fahrenheit = celsius * (9/5) + 32\n",
    "    return celsius , fahrenheit"
   ]
  },
  {
   "cell_type": "code",
   "execution_count": 60,
   "metadata": {},
   "outputs": [],
   "source": [
    "temp_kelvin = response['main']['temp']"
   ]
  },
  {
   "cell_type": "code",
   "execution_count": 61,
   "metadata": {},
   "outputs": [],
   "source": [
    "feels_like_kelvin=response['main']['feels_like']\n",
    "feels_like_celsius,feels_like_fahrenheit = kelvin_to_celsius_fahrenheit(feels_like_kelvin)"
   ]
  },
  {
   "cell_type": "code",
   "execution_count": 62,
   "metadata": {},
   "outputs": [],
   "source": [
    "temp_celsius , temp_fahrenheit = kelvin_to_celsius_fahrenheit(temp_kelvin)"
   ]
  },
  {
   "cell_type": "code",
   "execution_count": 73,
   "metadata": {},
   "outputs": [],
   "source": [
    "humidity=response['main']['humidity']\n",
    "description=response['weather'][0]['description']\n",
    "sunrise_time=dt.datetime.utcfromtimestamp(response['sys']['sunrise'] + response['timezone'])\n",
    "sunset_time=dt.datetime.utcfromtimestamp(response['sys']['sunset'] + response['timezone'])\n",
    "wind_speed=response['wind']['speed']\n",
    "description = response['weather'][0]['description']"
   ]
  },
  {
   "cell_type": "code",
   "execution_count": 68,
   "metadata": {},
   "outputs": [],
   "source": [
    "def wind_speed_conv(speed_mh):\n",
    "    wind_kh = speed_mh*3.6\n",
    "    return wind_kh"
   ]
  },
  {
   "cell_type": "code",
   "execution_count": 69,
   "metadata": {},
   "outputs": [],
   "source": [
    "new_speed=wind_speed_conv(wind_speed)"
   ]
  },
  {
   "cell_type": "code",
   "execution_count": 76,
   "metadata": {},
   "outputs": [
    {
     "name": "stdout",
     "output_type": "stream",
     "text": [
      "The weather in Santurtzi is: light rain\n",
      "temprature in Santurtzi: 12.87 C or 55.17 F\n",
      "perceived temprature in Santurtzi: 12.25 C or 54.05 F\n",
      "perceived humidity in Santurtzi: 78.00\n",
      "sunrise in Santurtzi: 2024-10-26 08:39:48\n",
      "sunset in Santurtzi: 2024-10-26 19:12:04\n",
      "wind speed in Santurtzi: 5.54 km/h\n"
     ]
    }
   ],
   "source": [
    "print(f'The weather in {City} is: {description}')\n",
    "print(f'temprature in {City}: {temp_celsius:.2f} C or {temp_fahrenheit:.2f} F')\n",
    "print(f'perceived temprature in {City}: {feels_like_celsius:.2f} C or {feels_like_fahrenheit:.2f} F')\n",
    "print(f'perceived humidity in {City}: {humidity:.2f}')\n",
    "print(f'sunrise in {City}: {sunrise_time}')\n",
    "print(f'sunset in {City}: {sunset_time}')\n",
    "print(f'wind speed in {City}: {new_speed:.2f} km/h')\n"
   ]
  }
 ],
 "metadata": {
  "kernelspec": {
   "display_name": "base",
   "language": "python",
   "name": "python3"
  },
  "language_info": {
   "codemirror_mode": {
    "name": "ipython",
    "version": 3
   },
   "file_extension": ".py",
   "mimetype": "text/x-python",
   "name": "python",
   "nbconvert_exporter": "python",
   "pygments_lexer": "ipython3",
   "version": "3.11.7"
  }
 },
 "nbformat": 4,
 "nbformat_minor": 2
}
